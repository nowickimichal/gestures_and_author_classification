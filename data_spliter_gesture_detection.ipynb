{
  "nbformat": 4,
  "nbformat_minor": 0,
  "metadata": {
    "colab": {
      "name": "data_spliter_gesture_detection.ipynb",
      "provenance": [],
      "collapsed_sections": [],
      "authorship_tag": "ABX9TyN0ydk6qVRLXPdy+rIY+lBg",
      "include_colab_link": true
    },
    "kernelspec": {
      "name": "python3",
      "display_name": "Python 3"
    },
    "language_info": {
      "name": "python"
    }
  },
  "cells": [
    {
      "cell_type": "markdown",
      "metadata": {
        "id": "view-in-github",
        "colab_type": "text"
      },
      "source": [
        "<a href=\"https://colab.research.google.com/github/nowickimichal/gestures_and_author_classification/blob/main/data_spliter_gesture_detection.ipynb\" target=\"_parent\"><img src=\"https://colab.research.google.com/assets/colab-badge.svg\" alt=\"Open In Colab\"/></a>"
      ]
    },
    {
      "cell_type": "code",
      "metadata": {
        "id": "8akSDN031zka"
      },
      "source": [
        "import os\n",
        "import numpy as np\n",
        "import xml.dom.minidom\n",
        "import matplotlib.pyplot as plt\n",
        "from google.colab import drive\n",
        "from scipy import signal\n",
        "from sklearn.preprocessing import StandardScaler\n",
        "import pandas as pd\n",
        "from sklearn.decomposition import PCA\n",
        "from sklearn.preprocessing import MinMaxScaler"
      ],
      "execution_count": 1,
      "outputs": []
    },
    {
      "cell_type": "code",
      "metadata": {
        "colab": {
          "base_uri": "https://localhost:8080/"
        },
        "id": "ZNy6QV6T2FDn",
        "outputId": "0094007f-86b2-4a33-c9f0-413717c41e77"
      },
      "source": [
        "drive.mount('/content/gdrive')"
      ],
      "execution_count": 2,
      "outputs": [
        {
          "output_type": "stream",
          "name": "stdout",
          "text": [
            "Mounted at /content/gdrive\n"
          ]
        }
      ]
    },
    {
      "cell_type": "code",
      "metadata": {
        "colab": {
          "base_uri": "https://localhost:8080/"
        },
        "id": "Mdb0u1bI3GVs",
        "outputId": "f8112879-0f04-455d-bca5-297d816354a5"
      },
      "source": [
        "path='/content/gdrive/MyDrive/xml/xml_logs/'\n",
        "people=['s01','s02','s03','s04','s05','s06','s07','s08','s09','s10','s11']\n",
        "pace=['fast','medium','slow']\n",
        "\n",
        "n=100\n",
        "type_of_data= 'gestures'\n",
        "data = np.zeros([2*n,1152])\n",
        "list_names=[]\n",
        "list_people=[]\n",
        "list_time=[]\n",
        "list_speed=[]\n",
        "data=[]\n",
        "\n",
        "m=0\n",
        "\n",
        "for subpath in people:\n",
        "  path2=path+subpath+'/'\n",
        " \n",
        "  for speedi in pace:\n",
        "    path3=path2+speedi\n",
        "    files = os.listdir(path3)\n",
        "    print(path3)\n",
        "    for i in range (0,len(files)):\n",
        "      \n",
        "      fname=files[i]\n",
        "      doc = xml.dom.minidom.parse(path3+'/'+fname);\n",
        "      point_val = doc.getElementsByTagName(\"Point\")\n",
        "      gesture=doc.getElementsByTagName('Gesture')\n",
        "      T_vector = np.zeros((point_val.length,1),int)\n",
        "      Y_vector = np.zeros((point_val.length,1),int)\n",
        "      X_vector = np.zeros((point_val.length,1),int)\n",
        "      for skill in gesture:\n",
        "        name=skill.getAttribute(\"Name\")\n",
        "        name=name[0:len(name)-2]\n",
        "        person=skill.getAttribute(\"Subject\")\n",
        "        time=skill.getAttribute(\"Millseconds\")\n",
        "        speed=skill.getAttribute(\"Speed\")\n",
        "      \n",
        "      j=0\n",
        "      for skill in point_val:\n",
        "        T_vector[j]=skill.getAttribute(\"T\")\n",
        "        Y_vector[j]=skill.getAttribute(\"Y\")\n",
        "        X_vector[j]=skill.getAttribute(\"X\")\n",
        "        j=j+1\n",
        "      #preprocessing\n",
        "      #długość sygnału przepróbkoanego n=100\n",
        "      X_resampled=signal.resample_poly(X_vector, n, len(Y_vector), padtype='line')\n",
        "      Y_resampled=signal.resample_poly(Y_vector, n, len(Y_vector), padtype='line')\n",
        "      #standaryzacja\n",
        "      scaler = StandardScaler()\n",
        "      scaler.fit(X_resampled)\n",
        "      scaler.mean_\n",
        "      scaler.transform(X_resampled)\n",
        "      standard_X=scaler.transform(X_resampled)\n",
        "\n",
        "      scaler.fit(Y_resampled)\n",
        "      scaler.mean_\n",
        "      scaler.transform(Y_resampled)\n",
        "      standard_Y=scaler.transform(Y_resampled)\n",
        "      #filtracja\n",
        "      b, a = signal.butter(3, 0.4)\n",
        "      X_fil = signal.filtfilt(b, a, standard_X.T)\n",
        "      X_fil=X_fil[0,:]\n",
        "      Y_fil = signal.filtfilt(b, a, standard_Y.T)\n",
        "      Y_fil=Y_fil[0,:]\n",
        "      \n",
        "      #agregacja\n",
        "      data_scaled = np.concatenate((X_fil,Y_fil))\n",
        "      list_names.append(name)     \n",
        "      data.append(data_scaled)\n",
        "      m=m+1\n"
      ],
      "execution_count": 4,
      "outputs": [
        {
          "output_type": "stream",
          "name": "stdout",
          "text": [
            "/content/gdrive/MyDrive/xml/xml_logs/s01/fast\n",
            "/content/gdrive/MyDrive/xml/xml_logs/s01/medium\n",
            "/content/gdrive/MyDrive/xml/xml_logs/s01/slow\n",
            "/content/gdrive/MyDrive/xml/xml_logs/s02/fast\n",
            "/content/gdrive/MyDrive/xml/xml_logs/s02/medium\n",
            "/content/gdrive/MyDrive/xml/xml_logs/s02/slow\n",
            "/content/gdrive/MyDrive/xml/xml_logs/s03/fast\n",
            "/content/gdrive/MyDrive/xml/xml_logs/s03/medium\n",
            "/content/gdrive/MyDrive/xml/xml_logs/s03/slow\n",
            "/content/gdrive/MyDrive/xml/xml_logs/s04/fast\n",
            "/content/gdrive/MyDrive/xml/xml_logs/s04/medium\n",
            "/content/gdrive/MyDrive/xml/xml_logs/s04/slow\n",
            "/content/gdrive/MyDrive/xml/xml_logs/s05/fast\n",
            "/content/gdrive/MyDrive/xml/xml_logs/s05/medium\n",
            "/content/gdrive/MyDrive/xml/xml_logs/s05/slow\n",
            "/content/gdrive/MyDrive/xml/xml_logs/s06/fast\n",
            "/content/gdrive/MyDrive/xml/xml_logs/s06/medium\n",
            "/content/gdrive/MyDrive/xml/xml_logs/s06/slow\n",
            "/content/gdrive/MyDrive/xml/xml_logs/s07/fast\n",
            "/content/gdrive/MyDrive/xml/xml_logs/s07/medium\n",
            "/content/gdrive/MyDrive/xml/xml_logs/s07/slow\n",
            "/content/gdrive/MyDrive/xml/xml_logs/s08/fast\n",
            "/content/gdrive/MyDrive/xml/xml_logs/s08/medium\n",
            "/content/gdrive/MyDrive/xml/xml_logs/s08/slow\n",
            "/content/gdrive/MyDrive/xml/xml_logs/s09/fast\n",
            "/content/gdrive/MyDrive/xml/xml_logs/s09/medium\n",
            "/content/gdrive/MyDrive/xml/xml_logs/s09/slow\n",
            "/content/gdrive/MyDrive/xml/xml_logs/s10/fast\n",
            "/content/gdrive/MyDrive/xml/xml_logs/s10/medium\n",
            "/content/gdrive/MyDrive/xml/xml_logs/s10/slow\n",
            "/content/gdrive/MyDrive/xml/xml_logs/s11/fast\n",
            "/content/gdrive/MyDrive/xml/xml_logs/s11/medium\n",
            "/content/gdrive/MyDrive/xml/xml_logs/s11/slow\n"
          ]
        }
      ]
    },
    {
      "cell_type": "code",
      "metadata": {
        "id": "AG1MFz_dKwc0"
      },
      "source": [
        "df_data=pd.DataFrame(data)\n",
        "df_names=pd.DataFrame(list_names)\n",
        "df_data=df_names.join(df_data,lsuffix='Y', rsuffix='X')"
      ],
      "execution_count": 5,
      "outputs": []
    },
    {
      "cell_type": "code",
      "metadata": {
        "id": "dogOtRzRM-bv"
      },
      "source": [
        "df_data.to_csv('/content/gdrive/MyDrive/master_thesis_data/gesture_data.csv')"
      ],
      "execution_count": 6,
      "outputs": []
    }
  ]
}